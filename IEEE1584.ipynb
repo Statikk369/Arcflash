{
 "cells": [
  {
   "cell_type": "code",
   "execution_count": 20,
   "id": "a3c43387",
   "metadata": {
    "scrolled": true
   },
   "outputs": [
    {
     "name": "stdout",
     "output_type": "stream",
     "text": [
      "Tuan LC50\n",
      "0.23527038603339193   0.24681620281773947   0.2178010100392677   0.25418463808347275   0.15743138957790334   0.20602636568794935\n",
      "Cubicle parameters:\n",
      "        \n",
      "V_oc (nominal voltage)          = 0.480 kV\n",
      "D (working distance)            = 609.6 mm\n",
      "G (busbar gap)                  = 32.0 mm\n",
      "EC (electrode configuration)    = VCB\n",
      "\n",
      "Box dimensions:\n",
      "    height  = 610.0 mm\n",
      "    width   = 610.0 mm\n",
      "    depth   = 254.0 mm\n",
      "    \n",
      "Enclosure correction factor\n",
      "    enclosure_type  = Typical\n",
      "    height_1        = 24.0 inch\n",
      "    width_1         = 24.0 inch\n",
      "    EES             = 24.0 inch\n",
      "    CF              = 1.085\n",
      "    VarCF           = 0.247\n",
      "\n",
      "Let I_bf = 45.000 kA\n",
      "\n",
      "Calculated:\n",
      "\n",
      "I_arc_max = 28.793 kA\n",
      "I_arc_min = 25.244 kA\n",
      "\n",
      "Then, with T_arc_max = 235.3 ms and T_arc_min = 246.8 ms:\n",
      "\n",
      "E_max = 44.463 J/cm² or 10.627 cal/cm²\n",
      "AFB_max = 2387 mm\n",
      "\n",
      "E_min = 41.128 J/cm² or 9.830 cal/cm²\n",
      "AFB_min = 2273 mm\n",
      "\n",
      "The maximum arcing current case was highest energy.\n"
     ]
    }
   ],
   "source": [
    "# Calculate Incident energy for a given fault current\n",
    "# Date: 27/01/2023\n",
    "# Rev: 1\n",
    "#\n",
    "# Programs uses IEEE 1584 and IEC 60255 Python libraries, as per below\n",
    "# Copyright 2022, Li-aung Yip - https://www.penwatch.net\n",
    "# Licensed under the MIT License. Refer LICENSE.txt.\n",
    "# IEC 60255 curves: https://gist.github.com/LiaungYip/b1cbaba826dc46e26bbe\n",
    "\n",
    "from ieee_1584.calculation import Calculation\n",
    "from ieee_1584.cubicle import Cubicle\n",
    "import sys\n",
    "sys.path.append(\"iec_60255/\")\n",
    "from curve1 import *\n",
    "\n",
    "if __name__ == '__main__':\n",
    "    # IEEE 1584-2018  \n",
    "    #\n",
    "    print(\"LC10-1\")\n",
    "    I_bf = 45 # Bolted fault current kA symm rms\n",
    "    # Cubicle(Ivoc (kV), \"VCB\", Gap (mm), Working distance (mm), Height (mm), Width (mm), Depth (mm))\n",
    "    cubicle = Cubicle(0.433, \"VCB\", 32, 609.6, 940, 940, 500)\n",
    "    calc = Calculation(cubicle, I_bf)\n",
    "    calc.calculate_I_arc()\n",
    "\n",
    "    T_arc_max=IEC_255_Trip_Time(1600, \"SI\", 0.1, calc.I_arc_max*1000, debug = False)\n",
    "    T_arc_min=IEC_255_Trip_Time(1600, \"SI\", 0.1, calc.I_arc_min*1000, debug = False)\n",
    "    T_arc_max_VI=IEC_255_Trip_Time(4000, \"VI\", 0.1, calc.I_arc_max*1000, debug = False)\n",
    "    T_arc_min_VI=IEC_255_Trip_Time(4000, \"VI\", 0.1, calc.I_arc_min*1000, debug = False)\n",
    "    T_arc_max_EI=IEC_255_Trip_Time(4000, \"EI\", 0.1, calc.I_arc_max*1000, debug = False)\n",
    "    T_arc_min_EI=IEC_255_Trip_Time(4000, \"EI\", 0.1, calc.I_arc_min*1000, debug = False)\n",
    "    print(T_arc_max,\" \",T_arc_min,\" \",T_arc_max_VI,\" \",T_arc_min_VI,\" \",T_arc_max_EI,\" \",T_arc_min_EI)\n",
    "    \n",
    "    # Schneider CB curves can be found here:\n",
    "    # https://ect.se.com/cbt/app/index.html#/DisplayCurve\n",
    "    # Values can be entered manually here, if required.\n",
    "    # T_arc_max = 0.319\n",
    "    # T_arc_min = 0.0613\n",
    "        \n",
    "    calc.calculate_E_AFB(T_arc_max*1000, T_arc_min*1000)\n",
    "    print(cubicle.pretty_print())\n",
    "    print(calc.pretty_print())\n",
    "\n",
    "    if calc.E_max > calc.E_min:\n",
    "        print(\"The maximum arcing current case was highest energy.\")\n",
    "    else:\n",
    "        print(\"The minimum arcing current case was highest energy.\")\n"
   ]
  },
  {
   "cell_type": "code",
   "execution_count": null,
   "id": "ea084551",
   "metadata": {},
   "outputs": [],
   "source": []
  },
  {
   "cell_type": "code",
   "execution_count": null,
   "id": "140493e6",
   "metadata": {},
   "outputs": [],
   "source": []
  },
  {
   "cell_type": "code",
   "execution_count": null,
   "id": "2a59e693",
   "metadata": {},
   "outputs": [],
   "source": []
  },
  {
   "cell_type": "code",
   "execution_count": null,
   "id": "e18c6105",
   "metadata": {},
   "outputs": [],
   "source": []
  },
  {
   "cell_type": "code",
   "execution_count": null,
   "id": "782476b4",
   "metadata": {},
   "outputs": [],
   "source": []
  }
 ],
 "metadata": {
  "kernelspec": {
   "display_name": "Python 3 (ipykernel)",
   "language": "python",
   "name": "python3"
  },
  "language_info": {
   "codemirror_mode": {
    "name": "ipython",
    "version": 3
   },
   "file_extension": ".py",
   "mimetype": "text/x-python",
   "name": "python",
   "nbconvert_exporter": "python",
   "pygments_lexer": "ipython3",
   "version": "3.10.0"
  }
 },
 "nbformat": 4,
 "nbformat_minor": 5
}
